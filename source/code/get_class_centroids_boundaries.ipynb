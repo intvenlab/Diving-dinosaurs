{
 "cells": [
  {
   "cell_type": "markdown",
   "metadata": {},
   "source": [
    "# Bootstrap Sets: Class Centroids and Boundary Lines\n",
    "calculate class centroids for the training set of each bootstrap data set, store them in a dataframe. Output each centroid output into a storage directory. Copy boundary line output in bootstrap set directories to the same storage directory by giving them a name with set number. Hence the storage directory will have the centroids along with the boundary line coefficients for each set.  "
   ]
  },
  {
   "cell_type": "code",
   "execution_count": 2,
   "metadata": {},
   "outputs": [],
   "source": [
    "using Glob, CSV, DataFrames, Statistics"
   ]
  },
  {
   "cell_type": "code",
   "execution_count": null,
   "metadata": {},
   "outputs": [
    {
     "data": {
      "text/plain": [
       "searchdir (generic function with 1 method)"
      ]
     },
     "metadata": {},
     "output_type": "display_data"
    }
   ],
   "source": [
    "searchdir(path,key) = filter(x->occursin(key,x), readdir(path))"
   ]
  },
  {
   "cell_type": "markdown",
   "metadata": {},
   "source": [
    "In the output directory holding a full analysis results (single, loocv, kfoldcv, bs etc directories). It will create a directory named \"boundaries_centroids\" in the folder, which will be the address to write the centroid and boundary line outputs.\n",
    "\n",
    "Also modify the script below if the classes are different than 0 and 2, which is the assumption below."
   ]
  },
  {
   "cell_type": "code",
   "execution_count": 3,
   "metadata": {},
   "outputs": [],
   "source": [
    "cd(\"C:/dino_nature/output/2023-11-07-D1/bs\")\n",
    "mkdir(\"boundaries_centroids\")\n",
    "\n",
    "for i in 1:100\n",
    "    inpfile = joinpath(\".\", \"set_$i\", \"femur_set_$i.csv\")\n",
    "    data = DataFrame(CSV.File(inpfile))\n",
    "    data = filter(:\"diving.or.not\" =>  !=(\"UNKNOWN\"), data)   # eliminate the test taxa, thus keep only the training set\n",
    "    data_0 = filter(:\"diving.or.not\" =>  ==(\"0\"), data)[:, [:\"Global.compactness\", :\"MD.log\"]]    # extract a class\n",
    "    data_2 = filter(:\"diving.or.not\" =>  ==(\"2\"), data)[:, [:\"Global.compactness\", :\"MD.log\"]]    # extract a class\n",
    "    mean_0 = mean.(eachcol(data_0))     # calculate the mean of each column for the given class \n",
    "    mean_2 = mean.(eachcol(data_2))     # calculate the mean of each column for the given class\n",
    "    centroids = transpose(hcat(mean_0, mean_2))   #  combine the centroids of each class in a matrix for converting to a dataframe\n",
    "    centroids = DataFrame(centroids, :auto)       #  create a dataframe of centroids\n",
    "    rename!(centroids, [:\"Cg\", :\"logD\"])\n",
    "    outfile = joinpath(\".\", \"boundaries_centroids\", \"centroids_$i.csv\")\n",
    "    CSV.write(outfile, centroids)\n",
    "    # now copy centroids to the folder by renaming them with the set index:\n",
    "    cp(joinpath(\".\", \"set_$i\", \"BOUNDARY_LINE_COEFFS.csv\"), joinpath(\".\", \"boundaries_centroids\", \"BOUNDARY_LINE_COEFFS_$i.csv\"), force=true)\n",
    "    #println(outfile)\n",
    "end"
   ]
  }
 ],
 "metadata": {
  "kernelspec": {
   "display_name": "Julia 1.9.3",
   "language": "julia",
   "name": "julia-1.9"
  },
  "language_info": {
   "file_extension": ".jl",
   "mimetype": "application/julia",
   "name": "julia",
   "version": "1.9.3"
  }
 },
 "nbformat": 4,
 "nbformat_minor": 4
}
