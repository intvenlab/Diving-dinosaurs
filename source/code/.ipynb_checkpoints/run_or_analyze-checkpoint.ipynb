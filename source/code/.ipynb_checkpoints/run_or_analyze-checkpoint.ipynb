{
 "cells": [
  {
   "cell_type": "code",
   "execution_count": 1,
   "metadata": {},
   "outputs": [],
   "source": [
    "include(\"misc.jl\")\n",
    "using .RunOrAnalyze"
   ]
  },
  {
   "cell_type": "markdown",
   "metadata": {},
   "source": [
    "### Launch a full-suit run:\n",
    "Given a data file perform\n",
    "* single (which means just simple prediction of test taxa labels)\n",
    "* loocv (leave one out cross validation in which we just take the training part of the data and iteratively treat one of its members as test taxa to predict its value. At the end we will have a cross-validation of oor code's predictive power.)\n",
    "* kfoldcv (k-fold cross validation, in which we just take the training part of the data and divide the shuffled set to K partitions. Iteratively we treat one of the partitions as test set and predict it using training by taking the rest). If wanted we can make more than one such cross-validations to improve statistics.\n",
    "* bootstrap (in order to have a measure of variance for our predictions, we repeatedly make predictions for test taxa using training sets that are varied according to the bootrap procedure, in which we keep the number of training set the same but the make up of each training set is obtained by resampling the original training set with replacement)\n"
   ]
  },
  {
   "cell_type": "code",
   "execution_count": 2,
   "metadata": {},
   "outputs": [
    {
     "name": "stdout",
     "output_type": "stream",
     "text": [
      "[1] \"* Selected categorical labels column: diving.or.not\"\n",
      "[1] \"* diving.or.equal column is identical to Diving column.\"\n",
      "[1] \"* Regression includes flying taxa.\"\n",
      "[1] \"* Diving labels that are present in regression: 0,1\"\n",
      "[1] \"The following taxa are in the tree but not in the data. Hence we remove them from the tree:\""
     ]
    },
    {
     "name": "stderr",
     "output_type": "stream",
     "text": [
      "┌ Warning: RCall.jl: Loading required package: RRPP\n",
      "│ Loading required package: rgl\n",
      "│ Loading required package: Matrix\n",
      "│ Loading required package: maps\n",
      "│ \n",
      "│ Attaching package: 'svgViewR'\n",
      "│ \n",
      "│ The following objects are masked from 'package:rgl':\n",
      "│ \n",
      "│     readOBJ, writeOBJ\n",
      "│ \n",
      "│        --- dispRity package ---\n",
      "│ This is the CRAN release version (1.7.0) of the package.\n",
      "│ For news, vignettes and future releases,\n",
      "│ visit https://github.com/TGuillerme/dispRity\n",
      "│ \n",
      "│ \n",
      "│ Attaching package: 'dispRity'\n",
      "│ \n",
      "│ The following object is masked from 'package:geomorph':\n",
      "│ \n",
      "│     combine.subsets\n",
      "│ \n",
      "│ The following object is masked from 'package:RRPP':\n",
      "│ \n",
      "│     add.tree\n",
      "│ \n",
      "│ \n",
      "│ Attaching package: 'MASS'\n",
      "│ \n",
      "│ The following object is masked from 'package:formattable':\n",
      "│ \n",
      "│     area\n",
      "│ \n",
      "│ Loading required package: mda\n",
      "│ Loading required package: class\n",
      "│ Loaded mda 0.5-3\n",
      "│ \n",
      "│ Loading required package: nlme\n",
      "│ Loading required package: qpcR\n",
      "│ Loading required package: minpack.lm\n",
      "│ Loading required package: robustbase\n",
      "│ Loading required package: klaR\n",
      "│ Registered S3 methods overwritten by 'klaR':\n",
      "│   method      from \n",
      "│   predict.rda vegan\n",
      "│   print.rda   vegan\n",
      "│   plot.rda    vegan\n",
      "│ \n",
      "│ Attaching package: 'dplyr'\n",
      "│ \n",
      "│ The following object is masked from 'package:nlme':\n",
      "│ \n",
      "│     collapse\n",
      "│ \n",
      "│ The following object is masked from 'package:MASS':\n",
      "│ \n",
      "│     select\n",
      "│ \n",
      "│ The following objects are masked from 'package:stats':\n",
      "│ \n",
      "│     filter, lag\n",
      "│ \n",
      "│ The following objects are masked from 'package:base':\n",
      "│ \n",
      "│     intersect, setdiff, setequal, union\n",
      "│ \n",
      "│ Loading required package: sjmisc\n",
      "│ data.table 1.14.2 using 8 threads (see ?getDTthreads).  Latest news: r-datatable.com\n",
      "│ \n",
      "│ Attaching package: 'data.table'\n",
      "│ \n",
      "│ The following objects are masked from 'package:dplyr':\n",
      "│ \n",
      "│     between, first, last\n",
      "│ \n",
      "└ @ RCall C:\\Users\\cozen\\.julia\\packages\\RCall\\6kphM\\src\\io.jl:172\n"
     ]
    },
    {
     "name": "stdout",
     "output_type": "stream",
     "text": [
      "\n",
      " [1] \"Alamosaurus\"               \"Alca_torda\"               \n",
      " [3] \"Allosaurus_\"               \"Anarosaurus\"              \n",
      " [5] \"Anas_aucklandica\"          \"Anas_discors\"             \n",
      " [7] \"Anas_erythroincha\"         \"Anhinga_anhinga\"          \n",
      " [9] \"Anser_fabalis\"             \"Anseranas_semipalmata\"    \n",
      "[11] \"Antetonitrus\"              \"Aramus_guarauna\"          \n",
      "[13] \"Asfaltovenator\"            \"Asilisaurus\"              \n",
      "[15] \"Australovenator\"           \"Avimaia\"                  \n",
      "[17] \"Basilosaurus\"              \"Callophoca_obscura\"       \n",
      "[19] \"Cinclus_cinclus\"           \"Condorraptor\"             \n",
      "[21] \"Cricosaurus\"               \"Cryptoclidus\"             \n",
      "[23] \"Cygnus_olor\"               \"Deinonychus\"              \n",
      "[25] \"Dysalotosaurus\"            \"Eustreptospondylus\"       \n",
      "[27] \"Fratercula_arctica\"        \"Fruitadens\"               \n",
      "[29] \"Gallimimus_sp\"             \"Gallus_domesticus\"        \n"
     ]
    },
    {
     "name": "stdout",
     "output_type": "stream",
     "text": [
      "[31] \"Gavia_immer\"               \"Gobiraptor_\"              \n",
      "[33] \"Gorgosaurus\"               \"Halszkararaptor_\"         \n",
      "[35] \"Hesperornis\"               \"Iberosuchus\"              \n",
      "[37] \"Ichtyosaur_sp\"             \"Ichtyosaurus_\"            \n",
      "[39] \"Iteravis\"                  \"large_eocene_stem_penguin\"\n",
      "[41] \"Lepidus\"                   \"Leptophoca_proxima\"       \n",
      "[43] \"Maiacetus\"                 \"Masiakasaurus\"            \n",
      "[45] \"Megalosaurus\"              \"Mirusavis\"                \n",
      "[47] \"Mussaurus\"                 \"Nanophoca_vitulinoides\"   \n",
      "[49] \"noasaurid_kem_kem\"         \"Otaria_byronia\"           \n",
      "[51] \"Oviraptor_\"                \"Oviraptor_caenagnathid\"   \n",
      "[53] \"Oxyura_jamaicensis\"        \"Palaeospheniscus\"         \n",
      "[55] \"Paraplacodus\"              \"Pelagodroma_marina\"       \n",
      "[57] \"Pelecanoides_urinatryx\"    \"Phaeton_aethereus\"        \n",
      "[59] \"Phalacrocorax_carbo\"       \"Phocanella_pumila\"        \n",
      "[61] \"Phoenicopterus_roseus\"     \"Pistosaurus\"              \n",
      "[63] \"Placodontia_indet_1\"       \"Placondontia_indet\"       \n",
      "[65] \"Plateosaurus\"              \"Plesiosaurus\"             \n",
      "[67] \"Podica_senegalensis\"       \"Poposaurus\"               \n",
      "[69] \"Porphyrio_Poliocephalus\"   \"Porzana_carolina\"         \n",
      "[71] \"Psephoderma\"               \"Rahonavis\"                \n",
      "[73] \"Rativates\"                 \"Remingtonocetus\"          \n",
      "[75] \"Rhaeticosaurus\"            \"Rodhocetus\"               \n",
      "[77] \"Scutellosaurus_lawleri\"    \"Simosaurus\"               \n",
      "[79] \"Simosaurus_1\"              \"Small_Eocene_penguin\"     \n",
      "[81] \"Spheniscus\"                \"Stegosaurus_sp\"           \n",
      "[83] \"Sula\"                      \"Syntarsus_\"               \n",
      "[85] \"Tachybaptus\"               \"Tenontosaurus\"            \n",
      "[87] \"Torvosaurus\"               \"Troodon_formosus\"         \n"
     ]
    },
    {
     "name": "stdout",
     "output_type": "stream",
     "text": [
      "[89] \"Tyrannosaurus\"             \"Tyrannotitan\"             \n",
      "[91] \"Unamed_theropod_kem_kem\"   \"Uria\"                     \n",
      "[93] \"Ursus_maritimus\"           \"Vegavis\"                  \n",
      "[1] \"The following taxa are in the data but not in the tree. Hence we remove them from the data:\"\n",
      "[1] \"Rhinoceros_unicornis\"\n"
     ]
    },
    {
     "name": "stdout",
     "output_type": "stream",
     "text": [
      "[1] 0.08\n",
      "[1] \"* index-name alignment check: OK\"\n"
     ]
    },
    {
     "name": "stderr",
     "output_type": "stream",
     "text": [
      "┌ Warning: RCall.jl: Loading required package: nnet\n",
      "│ Loading required package: lattice\n",
      "│ Warning: Following taxa dropped from timeList: Rhinoceros_unicornis\n",
      "└ @ RCall C:\\Users\\cozen\\.julia\\packages\\RCall\\6kphM\\src\\io.jl:172\n"
     ]
    },
    {
     "name": "stdout",
     "output_type": "stream",
     "text": [
      "[1] \"* Selected categorical labels column: diving.or.not\"\n",
      "[1] \"* diving.or.equal column is identical to Diving column.\"\n",
      "[1] \"* Regression includes flying taxa.\"\n",
      "[1] \"* Diving labels that are present in regression: 0,1\"\n"
     ]
    },
    {
     "name": "stderr",
     "output_type": "stream",
     "text": [
      "┌ Warning: RCall.jl: Warning: Following taxa dropped from timeList: Rhinoceros_unicornis\n",
      "└ @ RCall C:\\Users\\cozen\\.julia\\packages\\RCall\\6kphM\\src\\io.jl:172\n"
     ]
    },
    {
     "name": "stdout",
     "output_type": "stream",
     "text": [
      "[1] \"* Selected categorical labels column: diving.or.not\"\n",
      "[1] \"* diving.or.equal column is identical to Diving column.\"\n",
      "[1] \"* Regression includes flying taxa.\"\n",
      "[1] \"* Diving labels that are present in regression: 0,1\""
     ]
    },
    {
     "name": "stdout",
     "output_type": "stream",
     "text": [
      "\n"
     ]
    },
    {
     "name": "stdout",
     "output_type": "stream",
     "text": [
      "[1] \"* Selected categorical labels column: diving.or.not\"\n",
      "[1] \"* diving.or.equal column is identical to Diving column.\"\n",
      "[1] \"* Regression includes flying taxa.\"\n",
      "[1] \"* Diving labels that are present in regression: 0,1\""
     ]
    },
    {
     "name": "stderr",
     "output_type": "stream",
     "text": [
      "┌ Warning: RCall.jl: Warning: Following taxa dropped from timeList: Rhinoceros_unicornis\n",
      "└ @ RCall C:\\Users\\cozen\\.julia\\packages\\RCall\\6kphM\\src\\io.jl:172\n"
     ]
    },
    {
     "name": "stdout",
     "output_type": "stream",
     "text": [
      "\n"
     ]
    },
    {
     "name": "stderr",
     "output_type": "stream",
     "text": [
      "┌ Warning: RCall.jl: Warning: Following taxa dropped from timeList: Rhinoceros_unicornis\n",
      "└ @ RCall C:\\Users\\cozen\\.julia\\packages\\RCall\\6kphM\\src\\io.jl:172\n"
     ]
    },
    {
     "name": "stdout",
     "output_type": "stream",
     "text": [
      "[1] \"* Selected categorical labels column: diving.or.not\"\n",
      "[1] \"* diving.or.equal column is identical to Diving column.\"\n",
      "[1] \"* Regression includes flying taxa.\"\n",
      "[1] \"* Diving labels that are present in regression: 0,1\"\n"
     ]
    },
    {
     "name": "stderr",
     "output_type": "stream",
     "text": [
      "┌ Warning: RCall.jl: Warning: Following taxa dropped from timeList: Rhinoceros_unicornis\n",
      "└ @ RCall C:\\Users\\cozen\\.julia\\packages\\RCall\\6kphM\\src\\io.jl:172\n"
     ]
    },
    {
     "name": "stdout",
     "output_type": "stream",
     "text": [
      "[1] \"* Selected categorical labels column: diving.or.not\"\n",
      "[1] \"* diving.or.equal column is identical to Diving column.\"\n",
      "[1] \"* Regression includes flying taxa.\"\n",
      "[1] \"* Diving labels that are present in regression: 0,1\""
     ]
    },
    {
     "name": "stdout",
     "output_type": "stream",
     "text": [
      "\n"
     ]
    },
    {
     "name": "stdout",
     "output_type": "stream",
     "text": [
      "[1] \"* Selected categorical labels column: diving.or.not\"\n",
      "[1] \"* diving.or.equal column is identical to Diving column.\"\n",
      "[1] \"* Regression includes flying taxa.\"\n",
      "[1] \"* Diving labels that are present in regression: 0,1\""
     ]
    },
    {
     "name": "stderr",
     "output_type": "stream",
     "text": [
      "┌ Warning: RCall.jl: Warning: Following taxa dropped from timeList: Rhinoceros_unicornis\n",
      "└ @ RCall C:\\Users\\cozen\\.julia\\packages\\RCall\\6kphM\\src\\io.jl:172\n"
     ]
    },
    {
     "name": "stdout",
     "output_type": "stream",
     "text": [
      "\n"
     ]
    },
    {
     "name": "stderr",
     "output_type": "stream",
     "text": [
      "┌ Warning: RCall.jl: Warning: Following taxa dropped from timeList: Rhinoceros_unicornis\n",
      "└ @ RCall C:\\Users\\cozen\\.julia\\packages\\RCall\\6kphM\\src\\io.jl:172\n"
     ]
    },
    {
     "name": "stdout",
     "output_type": "stream",
     "text": [
      "[1] \"* Selected categorical labels column: diving.or.not\"\n",
      "[1] \"* diving.or.equal column is identical to Diving column.\"\n",
      "[1] \"* Regression includes flying taxa.\"\n",
      "[1] \"* Diving labels that are present in regression: 0,1\"\n"
     ]
    },
    {
     "name": "stderr",
     "output_type": "stream",
     "text": [
      "┌ Warning: RCall.jl: Warning: Following taxa dropped from timeList: Rhinoceros_unicornis\n",
      "└ @ RCall C:\\Users\\cozen\\.julia\\packages\\RCall\\6kphM\\src\\io.jl:172\n"
     ]
    },
    {
     "name": "stdout",
     "output_type": "stream",
     "text": [
      "[1] \"* Selected categorical labels column: diving.or.not\"\n",
      "[1] \"* diving.or.equal column is identical to Diving column.\"\n",
      "[1] \"* Regression includes flying taxa.\"\n",
      "[1] \"* Diving labels that are present in regression: 0,1\""
     ]
    },
    {
     "name": "stdout",
     "output_type": "stream",
     "text": [
      "\n"
     ]
    },
    {
     "name": "stderr",
     "output_type": "stream",
     "text": [
      "┌ Warning: RCall.jl: Warning: Following taxa dropped from timeList: Rhinoceros_unicornis\n",
      "└ @ RCall C:\\Users\\cozen\\.julia\\packages\\RCall\\6kphM\\src\\io.jl:172\n"
     ]
    },
    {
     "name": "stdout",
     "output_type": "stream",
     "text": [
      "[1] \"* Selected categorical labels column: diving.or.not\"\n",
      "[1] \"* diving.or.equal column is identical to Diving column.\"\n",
      "[1] \"* Regression includes flying taxa.\"\n",
      "[1] \"* Diving labels that are present in regression: 0,1\"\n"
     ]
    },
    {
     "name": "stderr",
     "output_type": "stream",
     "text": [
      "┌ Warning: RCall.jl: Warning: Following taxa dropped from timeList: Rhinoceros_unicornis\n",
      "└ @ RCall C:\\Users\\cozen\\.julia\\packages\\RCall\\6kphM\\src\\io.jl:172\n"
     ]
    },
    {
     "name": "stdout",
     "output_type": "stream",
     "text": [
      "[1] \"* Selected categorical labels column: diving.or.not\"\n",
      "[1] \"* diving.or.equal column is identical to Diving column.\"\n",
      "[1] \"* Regression includes flying taxa.\"\n",
      "[1] \"* Diving labels that are present in regression: 0,1\"\n"
     ]
    },
    {
     "name": "stderr",
     "output_type": "stream",
     "text": [
      "┌ Warning: RCall.jl: Warning: Following taxa dropped from timeList: Rhinoceros_unicornis\n",
      "└ @ RCall C:\\Users\\cozen\\.julia\\packages\\RCall\\6kphM\\src\\io.jl:172\n"
     ]
    },
    {
     "name": "stdout",
     "output_type": "stream",
     "text": [
      "[1] \"* Selected categorical labels column: diving.or.not\"\n",
      "[1] \"* diving.or.equal column is identical to Diving column.\"\n",
      "[1] \"* Regression includes flying taxa.\"\n",
      "[1] \"* Diving labels that are present in regression: 0,1\""
     ]
    },
    {
     "name": "stdout",
     "output_type": "stream",
     "text": [
      "\n"
     ]
    },
    {
     "name": "stderr",
     "output_type": "stream",
     "text": [
      "┌ Warning: RCall.jl: Warning: Following taxa dropped from timeList: Rhinoceros_unicornis\n",
      "└ @ RCall C:\\Users\\cozen\\.julia\\packages\\RCall\\6kphM\\src\\io.jl:172\n"
     ]
    },
    {
     "data": {
      "text/plain": [
       "RCall.RObject{RCall.NilSxp}\n",
       "NULL\n"
      ]
     },
     "metadata": {},
     "output_type": "display_data"
    }
   ],
   "source": [
    "# full analysis means performing single (binary_classification), loocv, k-fold cv, and bootstrap\n",
    "\n",
    "# explanation for addTreeTips: TRUE if either holds: \n",
    "#                              a) user added a test taxon as a variant of an existing taxon \n",
    "#                              b) any bootstrap run. \n",
    "\n",
    "# Always use the data directory for data file location. Easier to keep track of stuff. \n",
    "\n",
    "\n",
    "homeDir = \"C:/Users/cozen/dino_nature/output/D11_10_30_2022\"    # where full analysis folders are (or will be) placed at\n",
    "\n",
    "boneType            = \"femur\"                                                                # enter \"femur\" or \"ribs\" \n",
    "dataFile            = \"C:/Users/cozen/dino_nature/data/D11_femur.csv\"                         # bone data file (with path). See above.\n",
    "applyDataFilter     = \"FALSE\"                                                                # enter FALSE (no filter) or filter name. (see auxiliary.r) \n",
    "addTreeTips         = \"TRUE\"                                                                 # see explanations\n",
    "Ntrees              = 100                                                                    # no of random trees to be generated\n",
    "calculateTrees      = \"TRUE\"                                                                 # calculate (TRUE) or read (FALSE) trees\n",
    "saveTrees           = \"FALSE\"                                                                # save (TRUE) trees (if they are calculated here)\n",
    "Kcrossvalidation    = 10                                                                     # # of data partitions (K) in a K-fold CV \n",
    "Nkfoldcv            = 10                                                                     # how many rounds of k-fold cv is wanted   \n",
    "Nbootstrapsets      = 2000                                                                   # # of bootstrap sets\n",
    "\n",
    "newfullsuitrun(homeDir, boneType, dataFile, applyDataFilter, addTreeTips, Ntrees, calculateTrees,saveTrees,Kcrossvalidation,Nkfoldcv,Nbootstrapsets)"
   ]
  },
  {
   "cell_type": "markdown",
   "metadata": {},
   "source": [
    "### Analyze a Full-suit Run"
   ]
  },
  {
   "cell_type": "code",
   "execution_count": 3,
   "metadata": {},
   "outputs": [
    {
     "data": {
      "text/plain": [
       "\"C:/Users/cozen/dino_nature/output/D11_10_25_2022\\\\analysis\\\\bsPCM.csv\""
      ]
     },
     "metadata": {},
     "output_type": "display_data"
    }
   ],
   "source": [
    "homeDir = \"C:/Users/cozen/dino_nature/output/D11_10_30_2022\"\n",
    "Nkfoldcv = 10\n",
    "fullsuitpostprocess(homeDir, Nkfoldcv)\n"
   ]
  },
  {
   "cell_type": "markdown",
   "metadata": {},
   "source": [
    "### Run a session for any of \"single\" or \"loocv\" or \"kfoldcv\" or \"bs\" runs"
   ]
  },
  {
   "cell_type": "code",
   "execution_count": null,
   "metadata": {},
   "outputs": [],
   "source": []
  },
  {
   "cell_type": "markdown",
   "metadata": {},
   "source": [
    "### Compress the output of only one directory containing either \"single\" or \"loocv\" or \"kfoldcv\" or \"bs\" runs. "
   ]
  },
  {
   "cell_type": "code",
   "execution_count": 32,
   "metadata": {},
   "outputs": [
    {
     "data": {
      "text/plain": [
       "294"
      ]
     },
     "metadata": {},
     "output_type": "display_data"
    }
   ],
   "source": [
    "runType = \"kfoldcv\"     # Enter one of: \"single\", \"loocv\", \"kfoldcv\", \"bs\"\n",
    "baseDir = \"/home/cem/Desktop/dino_nature/output/test_kfoldcv\"\n",
    "compressor(runType, baseDir)"
   ]
  },
  {
   "cell_type": "code",
   "execution_count": null,
   "metadata": {},
   "outputs": [],
   "source": []
  }
 ],
 "metadata": {
  "kernelspec": {
   "display_name": "Julia 1.8.0",
   "language": "julia",
   "name": "julia-1.8"
  },
  "language_info": {
   "file_extension": ".jl",
   "mimetype": "application/julia",
   "name": "julia",
   "version": "1.8.0"
  },
  "orig_nbformat": 4
 },
 "nbformat": 4,
 "nbformat_minor": 2
}
