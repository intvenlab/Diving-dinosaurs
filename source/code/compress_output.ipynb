{
 "cells": [
  {
   "cell_type": "code",
   "execution_count": 2,
   "metadata": {},
   "outputs": [
    {
     "data": {
      "text/plain": [
       "compressor (generic function with 1 method)"
      ]
     },
     "metadata": {},
     "output_type": "display_data"
    }
   ],
   "source": [
    "\"\"\"\n",
    "compress_output.jl\n",
    "\n",
    "this code works for single prediction, bootstrap, loocv, and kfoldcv type runs \n",
    "involving binary classification. If ternary classification is done, this codehas to \n",
    "be generalzied for that task.\n",
    "\n",
    "Cem Ozen, Aug. 11, 2022.\n",
    "\"\"\"\n",
    "\n",
    "using DataFrames, CSV\n",
    "\n",
    "searchdir(path,key) = filter(x->occursin(key,x), readdir(path))\n",
    "\n",
    "function compressRow(row)\n",
    "    tmp = [(count(==(x), row),x) for x in Set(row)]\n",
    "end\n",
    "\n",
    "function compress_probabilities(data)\n",
    "    fileStr = \"\"\n",
    "    for i ∈ 1:nrow(data)\n",
    "        fileStr = fileStr * data[i,1] * \", \" * string(compressRow(data[i,2:end])) * \"\\n\"\n",
    "    end\n",
    "    fileStr = replace(fileStr, \"[\" => \"{\")\n",
    "    fileStr = replace(fileStr, \"]\" => \"}\")\n",
    "    fileStr = replace(fileStr, \"(\" => \"{\")\n",
    "    fileStr = replace(fileStr, \")\" => \"}\")\n",
    "    return fileStr\n",
    "end\n",
    "\n",
    "function compress_confusionmatrix(data)\n",
    "    V = Vector([Vector(data[i,2:5]) for i in 1:nrow(data)])\n",
    "    fileStr = string(compressRow(V)) * \"\\n\"\n",
    "    fileStr = replace(fileStr, \"[\" => \"{\")\n",
    "    fileStr = replace(fileStr, \"]\" => \"}\")\n",
    "    fileStr = replace(fileStr, \"(\" => \"{\")\n",
    "    fileStr = replace(fileStr, \")\" => \"}\")\n",
    "    return fileStr\n",
    "end\n",
    "\n",
    "function compressor(runType, baseDir)\n",
    "    if runType == \"single\"    # single prediction mode\n",
    "        outFileName1 = \"singlepredictionprobabilites.csv\"\n",
    "        outFileName2 = \"singlepredictionconfusionmatrices.csv\"\n",
    "    elseif runType == \"bs\"    # bootstrap mode\n",
    "        outFileName1 = \"bspredictionprobabilites.csv\"\n",
    "        outFileName2 = \"bspredictionconfusionmatrices.csv\"\n",
    "    elseif runType == \"loocv\"    # bootstrap mode\n",
    "        outFileName1 = \"loocvpredictionprobabilites.csv\"\n",
    "        outFileName2 = \"loocvpredictionconfusionmatrices.csv\"\n",
    "    elseif runType == \"kfoldcv\"    # bootstrap mode\n",
    "        outFileName1 = \"kfoldcvpredictionprobabilites.csv\"\n",
    "        outFileName2 = \"kfoldcvpredictionconfusionmatrices.csv\"\n",
    "    else \n",
    "        error(\"runType is not defined!\")\n",
    "    end\n",
    "    cd(baseDir)\n",
    "    if runType == \"single\"\n",
    "        # input and output files with their paths:\n",
    "        inpFile = joinpath(baseDir, \"PROBABILITIES.csv\")\n",
    "        outFile = joinpath(baseDir, outFileName1)\n",
    "        data = DataFrame(CSV.File(inpFile))\n",
    "        fileStr = compress_probabilities(data)\n",
    "        write(outFile, fileStr)     # writing compressed probability file\n",
    "    \n",
    "        inpFile = joinpath(baseDir, \"CONFMAT.csv\")\n",
    "        outFile = joinpath(baseDir, outFileName2)\n",
    "        data = DataFrame(CSV.File(inpFile))\n",
    "        fileStr = compress_confusionmatrix(data)\n",
    "        write(outFile, fileStr)\n",
    "    else           # this includes bs, loocv, kfoldcv type runs involving sets\n",
    "        setList = searchdir(baseDir, setKey)\n",
    "        outFile = joinpath(baseDir, outFileName1)\n",
    "        fileStr = \"\"\n",
    "        for dir ∈ setList\n",
    "            inpFile = joinpath(baseDir, dir, \"PROBABILITIES.csv\")\n",
    "            data = DataFrame(CSV.File(inpFile))\n",
    "            fileStr = fileStr * compress_probabilities(data) \n",
    "        end\n",
    "        write(outFile, fileStr)\n",
    "        outFile = joinpath(baseDir, outFileName2)\n",
    "        fileStr = \"\"\n",
    "        for dir ∈ setList\n",
    "            inpFile = joinpath(baseDir, dir, \"CONFMAT.csv\")\n",
    "            data = DataFrame(CSV.File(inpFile))\n",
    "            fileStr = fileStr * compress_confusionmatrix(data) \n",
    "        end\n",
    "        write(outFile, fileStr)\n",
    "    end\n",
    "end\n",
    "\n",
    "\n",
    "\n",
    "\n"
   ]
  },
  {
   "cell_type": "code",
   "execution_count": 3,
   "metadata": {},
   "outputs": [
    {
     "data": {
      "text/plain": [
       "335"
      ]
     },
     "metadata": {},
     "output_type": "display_data"
    }
   ],
   "source": [
    "\n",
    "runType = \"bs\"             # any of: single, loocv, kfoldcv, bs\n",
    "baseDir = \"c:/OneDrive - Intellectual Ventures Management, LLC/Documents/dino_nature/output/test_bootstrap\" \n",
    "setKey  = r\"set_[0-9]+\"       # relevant only for runs involving multiple sets (loocv, bootstrap, kfoldcv)\n",
    "\n",
    "compressor(runType, baseDir)"
   ]
  },
  {
   "cell_type": "code",
   "execution_count": null,
   "metadata": {},
   "outputs": [],
   "source": []
  }
 ],
 "metadata": {
  "kernelspec": {
   "display_name": "Julia 1.7.3",
   "language": "julia",
   "name": "julia-1.7"
  },
  "language_info": {
   "file_extension": ".jl",
   "mimetype": "application/julia",
   "name": "julia",
   "version": "1.7.3"
  },
  "orig_nbformat": 4
 },
 "nbformat": 4,
 "nbformat_minor": 2
}
